{
 "cells": [
  {
   "cell_type": "code",
   "execution_count": 1,
   "id": "ebd2ba7e",
   "metadata": {},
   "outputs": [],
   "source": [
    "# In this short introduction, we will use the tenstone library to \n",
    "# train a small feedforward network to approximate sin(x)\n",
    "\n",
    "# We must first import the library\n",
    "from TenStone import Tensor"
   ]
  },
  {
   "cell_type": "code",
   "execution_count": 2,
   "id": "4a40f67d",
   "metadata": {},
   "outputs": [
    {
     "data": {
      "text/plain": [
       "[1. 2.]"
      ]
     },
     "execution_count": 2,
     "metadata": {},
     "output_type": "execute_result"
    }
   ],
   "source": [
    "# Importing the library gives us access to the Tensor object.\n",
    "# A tensor in the context of machine learning is simply an \n",
    "# n-dimensional array with an autograd engine.\n",
    "# An autograd engine computes the gradients of a computational\n",
    "# graph using backpropogation\n",
    "\n",
    "# To create a tensor, we pass in a list of \n",
    "Tensor([1, 2])"
   ]
  }
 ],
 "metadata": {
  "kernelspec": {
   "display_name": "Python 3 (ipykernel)",
   "language": "python",
   "name": "python3"
  },
  "language_info": {
   "codemirror_mode": {
    "name": "ipython",
    "version": 3
   },
   "file_extension": ".py",
   "mimetype": "text/x-python",
   "name": "python",
   "nbconvert_exporter": "python",
   "pygments_lexer": "ipython3",
   "version": "3.8.17"
  }
 },
 "nbformat": 4,
 "nbformat_minor": 5
}
