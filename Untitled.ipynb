{
 "cells": [
  {
   "cell_type": "code",
   "execution_count": 1,
   "id": "ebd2ba7e",
   "metadata": {},
   "outputs": [],
   "source": [
    "# In this short introduction, we will use the tenstone library to \n",
    "# train a small feedforward network to approximate sin(x)\n",
    "\n",
    "# We must first import the library\n",
    "from TenStone import Tensor"
   ]
  },
  {
   "cell_type": "code",
   "execution_count": 2,
   "id": "4a40f67d",
   "metadata": {},
   "outputs": [
    {
     "data": {
      "text/plain": [
       "[1. 2.]"
      ]
     },
     "execution_count": 2,
     "metadata": {},
     "output_type": "execute_result"
    }
   ],
   "source": [
    "# Importing the library gives us access to the Tensor object.\n",
    "# A tensor in the context of machine learning is simply an \n",
    "# n-dimensional array with an autograd engine.\n",
    "# An autograd engine computes the gradients of a computational\n",
    "# graph using backpropogation\n",
    "\n",
    "# To create a tensor, we pass in a list of \n",
    "Tensor([1, 2])"
   ]
  },
  {
   "cell_type": "code",
   "execution_count": 15,
   "id": "d52f2d13",
   "metadata": {},
   "outputs": [
    {
     "name": "stdout",
     "output_type": "stream",
     "text": [
      "tensor([[ 2.,  4.,  6.],\n",
      "        [ 8., 10., 12.]], grad_fn=<AddBackward0>)\n",
      "tensor([[ 44.,  56.],\n",
      "        [ 98., 128.]], grad_fn=<MmBackward0>)\n",
      "tensor(326., grad_fn=<SumBackward0>)\n",
      "tensor([[ 6., 14., 22.],\n",
      "        [ 6., 14., 22.]])\n",
      "tensor([[10., 10.],\n",
      "        [14., 14.],\n",
      "        [18., 18.]])\n",
      "tensor([[ 3.,  7., 11.],\n",
      "        [ 3.,  7., 11.]])\n",
      "tensor([[1., 1.],\n",
      "        [1., 1.]])\n"
     ]
    }
   ],
   "source": [
    "\n",
    "import torch\n",
    "\n",
    "\n",
    "A = torch.tensor([[1, 2, 3], [4, 5, 6]], dtype=torch.float32, requires_grad=True)\n",
    "B = torch.tensor([[1, 2], [3, 4], [5, 6]], dtype=torch.float32, requires_grad=True)\n",
    "\n",
    "\n",
    "C = A + A\n",
    "C.retain_grad()\n",
    "print(C)\n",
    "D = C @ B\n",
    "print(D)\n",
    "D.retain_grad()\n",
    "E = D.sum()\n",
    "\n",
    "E.backward()\n",
    "\n",
    "print(E)\n",
    "\n",
    "print(A.grad)\n",
    "print(B.grad)\n",
    "print(C.grad)\n",
    "print(D.grad)\n"
   ]
  },
  {
   "cell_type": "code",
   "execution_count": 9,
   "id": "5d150b22",
   "metadata": {},
   "outputs": [
    {
     "data": {
      "text/plain": [
       "(torch.Size([2, 3]), torch.Size([3, 2]))"
      ]
     },
     "execution_count": 9,
     "metadata": {},
     "output_type": "execute_result"
    }
   ],
   "source": [
    "C = A + A\n",
    "C.shape, B.shape"
   ]
  },
  {
   "cell_type": "code",
   "execution_count": null,
   "id": "f5a2804b",
   "metadata": {},
   "outputs": [],
   "source": []
  }
 ],
 "metadata": {
  "kernelspec": {
   "display_name": "Python 3 (ipykernel)",
   "language": "python",
   "name": "python3"
  },
  "language_info": {
   "codemirror_mode": {
    "name": "ipython",
    "version": 3
   },
   "file_extension": ".py",
   "mimetype": "text/x-python",
   "name": "python",
   "nbconvert_exporter": "python",
   "pygments_lexer": "ipython3",
   "version": "3.8.17"
  }
 },
 "nbformat": 4,
 "nbformat_minor": 5
}
